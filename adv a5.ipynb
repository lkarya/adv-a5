{
 "cells": [
  {
   "cell_type": "code",
   "execution_count": 1,
   "id": "3f3feae6",
   "metadata": {},
   "outputs": [],
   "source": [
    "# Q1. What is the meaning of multiple inheritance?\n",
    "\n",
    "#A Multiple inheritance occurs when a class inherits from more than one base class. So the class can inherit features from multiple base classes using multiple inheritance. This is an important feature of object oriented programming languages such as C++"
   ]
  },
  {
   "cell_type": "code",
   "execution_count": 2,
   "id": "4375ade2",
   "metadata": {},
   "outputs": [],
   "source": [
    "# Q2. What is the concept of delegation?\n",
    "\n",
    "#A  the act of giving someone authority or responsibility for. 2 : one or more persons chosen to represent others. delegation."
   ]
  },
  {
   "cell_type": "code",
   "execution_count": 3,
   "id": "d9af4ce8",
   "metadata": {},
   "outputs": [],
   "source": [
    "# Q3. What is the concept of composition?\n",
    "\n",
    "#A Composition is one of the fundamental concepts in object-oriented programming. It describes a class that references one or more objects of other classes in instance variables. This allows you to model a has-a association between objects. You can find such relationships quite regularly in the real world."
   ]
  },
  {
   "cell_type": "code",
   "execution_count": 4,
   "id": "191c9fae",
   "metadata": {},
   "outputs": [],
   "source": [
    "# Q4. What are bound methods and how do we use them?\n",
    "\n",
    "#A A bound method is the one which is dependent on the instance of the class as the first argument. It passes the instance as the first argument which is used to access the variables and functions."
   ]
  },
  {
   "cell_type": "code",
   "execution_count": 5,
   "id": "bfbe8b77",
   "metadata": {},
   "outputs": [],
   "source": [
    "# Q5. What is the purpose of pseudoprivate attributes?\n",
    "\n",
    "#A This is sometimes misleadingly called private attributes really, it's just a way to localize a name to the class that created it, and does not prevent access by code outside the class. That is, this feature is mostly intended to avoid namespace collisions in instances, not to restrict access to names in general."
   ]
  },
  {
   "cell_type": "code",
   "execution_count": null,
   "id": "28aa08a9",
   "metadata": {},
   "outputs": [],
   "source": []
  }
 ],
 "metadata": {
  "kernelspec": {
   "display_name": "Python 3 (ipykernel)",
   "language": "python",
   "name": "python3"
  },
  "language_info": {
   "codemirror_mode": {
    "name": "ipython",
    "version": 3
   },
   "file_extension": ".py",
   "mimetype": "text/x-python",
   "name": "python",
   "nbconvert_exporter": "python",
   "pygments_lexer": "ipython3",
   "version": "3.9.7"
  }
 },
 "nbformat": 4,
 "nbformat_minor": 5
}
